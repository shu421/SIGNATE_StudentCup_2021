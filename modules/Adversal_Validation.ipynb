{
 "cells": [
  {
   "cell_type": "code",
   "execution_count": 216,
   "id": "9f9a0955-7432-4884-ba24-bda725cad4e4",
   "metadata": {},
   "outputs": [],
   "source": [
    "import pandas as pd\n",
    "import numpy as np\n",
    "\n",
    "import seaborn as sns\n",
    "import matplotlib.pyplot as plt\n",
    "%matplotlib inline\n",
    "\n",
    "import lightgbm as lgb\n",
    "from sklearn.model_selection import StratifiedKFold\n",
    "from sklearn.metrics import accuracy_score\n",
    "\n",
    "from abc import abstractmethod\n",
    "\n",
    "SEED=71\n",
    "\n",
    "class Base_Model(object):\n",
    "    @abstractmethod\n",
    "    def fit(self, x_train, y_train, x_valid, y_valid):\n",
    "        raise NotImplementedError\n",
    "        \n",
    "    @abstractmethod\n",
    "    def predict(self, model, features):\n",
    "        raise NotInplementedError\n",
    "\n",
    "    def __init__(self, train, test, target):\n",
    "        self.train = train\n",
    "        self.test = test\n",
    "        self.target = None\n",
    "        \n",
    "    def adversal_validation(self, train, test):\n",
    "        train['is_train'] = 1\n",
    "        test['is_train'] = 0\n",
    "        all_df = pd.concat([train, test], axis=0)\n",
    "        all_df = all_df.fillna(-9999)\n",
    "        all_df = all_df.reset_index(drop=True)\n",
    "        target = all_df['is_train'].astype(int)\n",
    "        all_df = all_df.drop(columns=['is_train'])\n",
    "        \n",
    "        skf = StratifiedKFold(5, shuffle=True, random_state=SEED)\n",
    "        \n",
    "        oof_preds = np.zeros(len(all_df))\n",
    "        \n",
    "        for i_fold, (trn_idx, val_idx) in enumerate(skf.split(all_df, target)):\n",
    "            \n",
    "            x_train = all_df.iloc[trn_idx]\n",
    "            y_train = target.iloc[trn_idx]\n",
    "            x_val = all_df.iloc[val_idx]\n",
    "            y_val = target.iloc[val_idx]\n",
    "            \n",
    "            model = self.fit(x_train, y_train, x_val, y_val)\n",
    "            oof_preds[val_idx] = self.predict_adversal(model, x_val)\n",
    "            \n",
    "            oof_score = accuracy_score(y_val, np.round(oof_preds[val_idx])) # np.round : 四捨五入\n",
    "            print(f'fold{i_fold}:Acc {oof_score}')\n",
    "        \n",
    "        oof_score = accuracy_score(target, np.round(oof_preds))\n",
    "        print('-'*50)\n",
    "        print(f'oof score : {oof_score}')\n",
    "        \n",
    "        evals_results = {\"evals_results\":{\n",
    "            \"oof_score\":oof_score,\n",
    "            \"n_data\":len(train),\n",
    "            \"n_features\":len(train.columns)\n",
    "        }}\n",
    "        \n",
    "        return oof_preds, evals_results\n",
    "    \n",
    "    \n",
    "class Lgbm(Base_Model):\n",
    "    def __init__(self, model_params):\n",
    "        self.model_params = model_params\n",
    "        self.models = []\n",
    "        self.feature_cols = None\n",
    "        self.feature_importance_df = pd.DataFrame()\n",
    "        self.order = None\n",
    "        \n",
    "    def fit(self, x_train, y_train, x_valid, y_valid):\n",
    "        lgb_train = lgb.Dataset(x_train, y_train)\n",
    "        lgb_valid = lgb.Dataset(x_valid, y_valid)\n",
    "        \n",
    "        model = lgb.train(self.model_params,\n",
    "                         train_set=lgb_train,\n",
    "                         valid_sets=[lgb_valid],\n",
    "                         early_stopping_rounds=20,\n",
    "                         num_boost_round=999999,\n",
    "                         verbose_eval=False)\n",
    "        \n",
    "        self.models.append(model)\n",
    "        return model\n",
    "    \n",
    "    def predict(self, model, feature):\n",
    "        self.feature_cols = features.columns\n",
    "        return np.argmax(model.predict(features), axis=1)\n",
    "    \n",
    "    def predict_adversal(self, model, features):\n",
    "        self.feature_cols = features.columns\n",
    "        return model.predict(features)\n",
    "    \n",
    "    def visualize_importance(self):\n",
    "        for i, model in enumerate(self.models):\n",
    "            _df = pd.DataFrame()\n",
    "            _df['feature_importance'] = model.feature_importance(importance_type='gain')\n",
    "            _df['column'] = self.feature_cols\n",
    "            _df['fold'] = i+1\n",
    "            self.feature_importance_df = pd.concat([self.feature_importance_df, _df], axis=0, ignore_index=True)\n",
    "            \n",
    "        # feature_importanceの総和が高い順に並び替え、その順に表示する\n",
    "        self.order = self.feature_importance_df.groupby('column').sum()[['feature_importance']].sort_values('feature_importance', ascending=False).index[:50]\n",
    "    \n",
    "        fig, ax = plt.subplots(2, 1, figsize=(max(6, len(self.order) * .4), 14))\n",
    "        sns.boxenplot(data=self.feature_importance_df, x='column', y='feature_importance', order=self.order, ax=ax[0], palette='viridis')\n",
    "        ax[0].tick_params(axis='x', rotation=90)\n",
    "        ax[0].grid()\n",
    "        fig.tight_layout()\n",
    "        return fig, ax"
   ]
  },
  {
   "cell_type": "code",
   "execution_count": 222,
   "id": "a857f030-1f96-4205-bf54-f579998134f2",
   "metadata": {},
   "outputs": [
    {
     "name": "stdout",
     "output_type": "stream",
     "text": [
      "fold0:Acc 0.48610253242742435\n",
      "fold1:Acc 0.5083384805435454\n",
      "fold2:Acc 0.49443757725587145\n",
      "fold3:Acc 0.4919653893695921\n",
      "fold4:Acc 0.5129789864029666\n",
      "--------------------------------------------------\n",
      "oof score : 0.49876421156697975\n"
     ]
    },
    {
     "data": {
      "text/plain": [
       "(<Figure size 432x1008 with 2 Axes>,\n",
       " array([<AxesSubplot:xlabel='column', ylabel='feature_importance'>,\n",
       "        <AxesSubplot:>], dtype=object))"
      ]
     },
     "execution_count": 222,
     "metadata": {},
     "output_type": "execute_result"
    },
    {
     "data": {
      "image/png": "[encoded data removed]",
      "text/plain": [
       "<Figure size 432x1008 with 2 Axes>"
      ]
     },
     "metadata": {
      "needs_background": "light"
     },
     "output_type": "display_data"
    }
   ],
   "source": [
    "train = pd.read_csv('../data/train.csv')\n",
    "train_feat_df = train.drop(['genre', 'index', 'tempo', 'region'], axis=1)\n",
    "test = pd.read_csv('../data/test.csv')\n",
    "test_feat_df = test.drop(['index', 'tempo', 'region'], axis=1)\n",
    "\n",
    "\n",
    "params = {'boosting_type': 'gbdt',\n",
    "          'objective': 'cross_entropy',\n",
    "          'verbosity':-1}\n",
    "\n",
    "model = Lgbm(params)\n",
    "model.adversal_validation(train_feat_df,test_feat_df)\n",
    "model.visualize_importance()\n"
   ]
  },
  {
   "cell_type": "code",
   "execution_count": null,
   "id": "1daf8000-3f65-4c07-80ec-04d3308da2e3",
   "metadata": {},
   "outputs": [],
   "source": []
  }
 ],
 "metadata": {
  "kernelspec": {
   "display_name": "Python 3",
   "language": "python",
   "name": "python3"
  },
  "language_info": {
   "codemirror_mode": {
    "name": "ipython",
    "version": 3
   },
   "file_extension": ".py",
   "mimetype": "text/x-python",
   "name": "python",
   "nbconvert_exporter": "python",
   "pygments_lexer": "ipython3",
   "version": "3.7.4"
  }
 },
 "nbformat": 4,
 "nbformat_minor": 5
}
